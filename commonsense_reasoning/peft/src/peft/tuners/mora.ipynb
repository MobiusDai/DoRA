{
 "cells": [
  {
   "cell_type": "code",
   "execution_count": 16,
   "metadata": {},
   "outputs": [],
   "source": [
    "import torch \n",
    "import torch.nn as nn \n",
    "import torch.nn.functional as F"
   ]
  },
  {
   "cell_type": "code",
   "execution_count": 3,
   "metadata": {},
   "outputs": [
    {
     "name": "stdout",
     "output_type": "stream",
     "text": [
      "torch.Size([2, 512]) torch.Size([1024, 2])\n"
     ]
    }
   ],
   "source": [
    "loraA = nn.Linear(512, 2, bias=False)\n",
    "loraB = nn.Linear(2, 1024, bias=False)\n",
    "\n",
    "print(loraA.weight.shape, loraB.weight.shape)"
   ]
  },
  {
   "cell_type": "code",
   "execution_count": 5,
   "metadata": {},
   "outputs": [
    {
     "name": "stdout",
     "output_type": "stream",
     "text": [
      "torch.Size([2, 512])\n"
     ]
    }
   ],
   "source": [
    "moe_weight = nn.Linear(512, 2, bias=False)\n",
    "\n",
    "print(moe_weight.weight.shape)"
   ]
  },
  {
   "cell_type": "code",
   "execution_count": 11,
   "metadata": {},
   "outputs": [
    {
     "name": "stdout",
     "output_type": "stream",
     "text": [
      "torch.Size([4, 16, 1024, 512])\n"
     ]
    }
   ],
   "source": [
    "seq_in = torch.randn(4, 16, 512) # b n d\n",
    "\n",
    "router_weight = moe_weight(seq_in) # b n r\n",
    "router_weight = torch.softmax(router_weight, dim=-1) # b n r\n",
    "router_weight = torch.diag_embed(router_weight) # b n r r\n",
    "\n",
    "lora_weight = loraB.weight @ router_weight @ loraA.weight # b n d k\n",
    "print(lora_weight.shape)"
   ]
  },
  {
   "cell_type": "code",
   "execution_count": 13,
   "metadata": {},
   "outputs": [
    {
     "name": "stdout",
     "output_type": "stream",
     "text": [
      "torch.Size([4, 16, 1024])\n"
     ]
    }
   ],
   "source": [
    "seq_out = torch.einsum('bnkd,bnd->bnk', lora_weight, seq_in)\n",
    "print(seq_out.shape)"
   ]
  },
  {
   "cell_type": "code",
   "execution_count": 21,
   "metadata": {},
   "outputs": [],
   "source": [
    "class loraLinear(nn.Linear):\n",
    "    def __init__(self, in_features, out_features, rank):\n",
    "        nn.Linear.__init__(self, in_features, out_features)\n",
    "        \n",
    "        self.weight.requires_grad = False\n",
    "\n",
    "        self.loraA = nn.Linear(in_features, rank, bias=False)\n",
    "        self.loraB = nn.Linear(rank, out_features, bias=False)\n",
    "        self.router = nn.Linear(in_features, 2, bias=False)\n",
    "\n",
    "\n",
    "    def forward(self, x):\n",
    "        org_result = F.linear(x, self.weight) # b n d / b d\n",
    "\n",
    "        router_weight = self.router(x) # b n r / b r\n",
    "        router_weight = torch.softmax(router_weight, dim=-1) # b n r / b r\n",
    "        router_weight = torch.diag_embed(router_weight) # b n r r / b r r\n",
    "\n",
    "        lora_weight = self.loraB.weight @ router_weight @ self.loraA.weight # b n k d / b k d\n",
    "        \n",
    "        if len(lora_weight.size()) == 3:\n",
    "            seq_out = torch.einsum('bkd,bd->bk', lora_weight, x)\n",
    "        else:\n",
    "            seq_out = torch.einsum('bnkd,bnd->bnk', lora_weight, x)\n",
    "\n",
    "        result = seq_out + org_result\n",
    "\n",
    "        return result\n",
    "    \n",
    "\n",
    "loralinear_layer = loraLinear(512, 1024, 2)"
   ]
  },
  {
   "cell_type": "code",
   "execution_count": 24,
   "metadata": {},
   "outputs": [
    {
     "name": "stdout",
     "output_type": "stream",
     "text": [
      "torch.Size([4, 16, 1024])\n"
     ]
    }
   ],
   "source": [
    "input_tensor = torch.randn(4, 16, 512)\n",
    "output_tensor = loralinear_layer(input_tensor)\n",
    "\n",
    "print(output_tensor.shape)"
   ]
  },
  {
   "cell_type": "code",
   "execution_count": null,
   "metadata": {},
   "outputs": [],
   "source": []
  }
 ],
 "metadata": {
  "kernelspec": {
   "display_name": "dora_llama",
   "language": "python",
   "name": "python3"
  },
  "language_info": {
   "codemirror_mode": {
    "name": "ipython",
    "version": 3
   },
   "file_extension": ".py",
   "mimetype": "text/x-python",
   "name": "python",
   "nbconvert_exporter": "python",
   "pygments_lexer": "ipython3",
   "version": "3.10.14"
  }
 },
 "nbformat": 4,
 "nbformat_minor": 2
}
