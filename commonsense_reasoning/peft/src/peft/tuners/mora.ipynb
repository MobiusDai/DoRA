{
 "cells": [
  {
   "cell_type": "code",
   "execution_count": 1,
   "metadata": {},
   "outputs": [],
   "source": [
    "import torch \n",
    "import torch.nn as nn \n",
    "import torch.nn.functional as F"
   ]
  },
  {
   "cell_type": "code",
   "execution_count": 2,
   "metadata": {},
   "outputs": [],
   "source": [
    "device = torch.device(\"cuda\" if torch.cuda.is_available() else \"cpu\")"
   ]
  },
  {
   "cell_type": "code",
   "execution_count": 3,
   "metadata": {},
   "outputs": [
    {
     "name": "stdout",
     "output_type": "stream",
     "text": [
      "torch.Size([2, 512]) torch.Size([1024, 2])\n"
     ]
    }
   ],
   "source": [
    "loraA = nn.Linear(512, 2, bias=False)\n",
    "loraB = nn.Linear(2, 1024, bias=False)\n",
    "\n",
    "print(loraA.weight.shape, loraB.weight.shape)"
   ]
  },
  {
   "cell_type": "code",
   "execution_count": 5,
   "metadata": {},
   "outputs": [
    {
     "name": "stdout",
     "output_type": "stream",
     "text": [
      "torch.Size([2, 512])\n"
     ]
    }
   ],
   "source": [
    "moe_weight = nn.Linear(512, 2, bias=False)\n",
    "\n",
    "print(moe_weight.weight.shape)"
   ]
  },
  {
   "cell_type": "code",
   "execution_count": 11,
   "metadata": {},
   "outputs": [
    {
     "name": "stdout",
     "output_type": "stream",
     "text": [
      "torch.Size([4, 16, 1024, 512])\n"
     ]
    }
   ],
   "source": [
    "seq_in = torch.randn(4, 16, 512) # b n d\n",
    "\n",
    "router_weight = moe_weight(seq_in) # b n r\n",
    "router_weight = torch.softmax(router_weight, dim=-1) # b n r\n",
    "router_weight = torch.diag_embed(router_weight) # b n r r\n",
    "\n",
    "lora_weight = loraB.weight @ router_weight @ loraA.weight # b n d k\n",
    "print(lora_weight.shape)"
   ]
  },
  {
   "cell_type": "code",
   "execution_count": 13,
   "metadata": {},
   "outputs": [
    {
     "name": "stdout",
     "output_type": "stream",
     "text": [
      "torch.Size([4, 16, 1024])\n"
     ]
    }
   ],
   "source": [
    "seq_out = torch.einsum('bnkd,bnd->bnk', lora_weight, seq_in)\n",
    "print(seq_out.shape)"
   ]
  },
  {
   "cell_type": "code",
   "execution_count": 1,
   "metadata": {},
   "outputs": [],
   "source": [
    "import torch \n",
    "import torch.nn as nn \n",
    "import torch.nn.functional as F"
   ]
  },
  {
   "cell_type": "code",
   "execution_count": 2,
   "metadata": {},
   "outputs": [],
   "source": [
    "device = torch.device(\"cuda\" if torch.cuda.is_available() else \"cpu\")"
   ]
  },
  {
   "cell_type": "code",
   "execution_count": 3,
   "metadata": {},
   "outputs": [],
   "source": [
    "class loraLinear(nn.Linear):\n",
    "    def __init__(self, in_features, out_features, k):\n",
    "        super(loraLinear, self).__init__(in_features, out_features)\n",
    "\n",
    "        self.weight.requires_grad = False\n",
    "\n",
    "        self.loraA = nn.Linear(in_features, k, bias=False)\n",
    "        self.loraB = nn.Linear(k, out_features, bias=False)\n",
    "        \n",
    "    def forward(self, x):\n",
    "\n",
    "        org_result = F.linear(x, self.weight)\n",
    "        lora_result = x @ self.loraA.weight.T @ self.loraB.weight.T\n",
    "        return org_result + lora_result\n",
    "    \n",
    "loralinear_layer = loraLinear(4096, 4096, 16).to(device)"
   ]
  },
  {
   "cell_type": "code",
   "execution_count": 3,
   "metadata": {},
   "outputs": [],
   "source": [
    "class loraLinear(nn.Linear):\n",
    "    def __init__(self, in_features, out_features, rank):\n",
    "        nn.Linear.__init__(self, in_features, out_features)\n",
    "        \n",
    "        self.weight.requires_grad = False\n",
    "\n",
    "        self.loraA = nn.Linear(in_features, rank, bias=False)\n",
    "        self.loraB = nn.Linear(rank, out_features, bias=False)\n",
    "        self.router = nn.Linear(in_features, rank, bias=False)\n",
    "\n",
    "\n",
    "    def forward(self, x):\n",
    "        org_result = F.linear(x, self.weight) # b n d / b d\n",
    "\n",
    "        router_weight = self.router(x) # b n r / b r\n",
    "        router_weight = torch.softmax(router_weight, dim=-1) # b n r / b r\n",
    "        router_weight = torch.diag_embed(router_weight) # b n r r / b r r\n",
    "\n",
    "        left_result = x @ self.loraA.weight.T # b n r / b r\n",
    "\n",
    "        if len(router_weight.size()) == 3:\n",
    "            moe_result = torch.einsum('br, bkr->bk', left_result, router_weight)\n",
    "        else:\n",
    "            moe_result = torch.einsum('bnr, bnkr->bnk', left_result, router_weight)\n",
    "        right_result = moe_result @ self.loraB.weight.T # b n k / b k\n",
    "\n",
    "        # lora_weight = self.loraB.weight @ router_weight @ self.loraA.weight # b n k d / b k d\n",
    "        \n",
    "        # if len(lora_weight.size()) == 3:\n",
    "        #     seq_out = torch.einsum('bkd,bd->bk', lora_weight, x)\n",
    "        # else:\n",
    "        #     seq_out = torch.einsum('bnkd,bnd->bnk', lora_weight, x)\n",
    "\n",
    "        result = org_result + right_result\n",
    "\n",
    "        return result\n",
    "    \n",
    "\n",
    "loralinear_layer = loraLinear(4096, 4096, 16).to(device)"
   ]
  },
  {
   "cell_type": "code",
   "execution_count": 4,
   "metadata": {},
   "outputs": [
    {
     "name": "stdout",
     "output_type": "stream",
     "text": [
      "torch.Size([1, 512, 4096])\n"
     ]
    }
   ],
   "source": [
    "input_tensor = torch.randn(1, 512, 4096).to(device)\n",
    "output_tensor = loralinear_layer(input_tensor)\n",
    "\n",
    "print(output_tensor.shape)"
   ]
  },
  {
   "cell_type": "code",
   "execution_count": 5,
   "metadata": {},
   "outputs": [
    {
     "name": "stdout",
     "output_type": "stream",
     "text": [
      "Sat Sep  7 15:29:10 2024       \n",
      "+-----------------------------------------------------------------------------------------+\n",
      "| NVIDIA-SMI 560.35.03              Driver Version: 560.35.03      CUDA Version: 12.6     |\n",
      "|-----------------------------------------+------------------------+----------------------+\n",
      "| GPU  Name                 Persistence-M | Bus-Id          Disp.A | Volatile Uncorr. ECC |\n",
      "| Fan  Temp   Perf          Pwr:Usage/Cap |           Memory-Usage | GPU-Util  Compute M. |\n",
      "|                                         |                        |               MIG M. |\n",
      "|=========================================+========================+======================|\n",
      "|   0  NVIDIA GeForce RTX 3090        Off |   00000000:65:00.0 Off |                  N/A |\n",
      "|  0%   29C    P2            105W /  370W |     472MiB /  24576MiB |      0%      Default |\n",
      "|                                         |                        |                  N/A |\n",
      "+-----------------------------------------+------------------------+----------------------+\n",
      "                                                                                         \n",
      "+-----------------------------------------------------------------------------------------+\n",
      "| Processes:                                                                              |\n",
      "|  GPU   GI   CI        PID   Type   Process name                              GPU Memory |\n",
      "|        ID   ID                                                               Usage      |\n",
      "|=========================================================================================|\n",
      "|    0   N/A  N/A      1181      G   /usr/lib/xorg/Xorg                              9MiB |\n",
      "|    0   N/A  N/A      1340      G   /usr/bin/gnome-shell                            6MiB |\n",
      "|    0   N/A  N/A    153174      C   ...u/anaconda3/envs/jctorch/bin/python        432MiB |\n",
      "+-----------------------------------------------------------------------------------------+\n"
     ]
    }
   ],
   "source": [
    "!nvidia-smi"
   ]
  },
  {
   "cell_type": "code",
   "execution_count": null,
   "metadata": {},
   "outputs": [],
   "source": []
  }
 ],
 "metadata": {
  "kernelspec": {
   "display_name": "dora_llama",
   "language": "python",
   "name": "python3"
  },
  "language_info": {
   "codemirror_mode": {
    "name": "ipython",
    "version": 3
   },
   "file_extension": ".py",
   "mimetype": "text/x-python",
   "name": "python",
   "nbconvert_exporter": "python",
   "pygments_lexer": "ipython3",
   "version": "3.10.14"
  }
 },
 "nbformat": 4,
 "nbformat_minor": 2
}
